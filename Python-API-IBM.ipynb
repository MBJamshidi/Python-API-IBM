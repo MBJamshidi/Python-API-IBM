{
 "cells": [
  {
   "cell_type": "code",
   "execution_count": null,
   "metadata": {},
   "outputs": [],
   "source": [
    "#Python\n",
    "#Application Program Interfaces (API)\n",
    "#Application Program Interfaces, API for short\n",
    "#Specifically, we will discuss what is an API,\n",
    "#API libraries, REST API including request and response\n",
    "\n",
    "#An API lets two pieces of software talk to each other\n",
    "#Pandas is actually a set of software components much of\n",
    "#which are not even written in Python. You have some data.\n",
    "#We use the pandas API to process the data by communicating with the other software components\n",
    "\n",
    "#Let's clean up the diagram\n",
    "import pandas as pd\n",
    "DiC={'Key1': [2, 4, 6, 4], 'Key2':[12, 4, 6, 8], 'Key3':[2, 5, 7,8]}\n",
    "print('\\n Dictionary DiC:\\n', DiC)\n",
    "print('\\nWhen you create a dictionary and then create pandas object with a DataFrame constructor')\n",
    "print('The data in the dictionary is passed along to the pandas API')\n",
    "DF=pd.DataFrame(DiC)\n",
    "print('\\n Data Frame:\\n', DF)\n",
    "\n",
    "#When you call the method head, the DataFrame communicates with the API \n",
    "print('\\nWhen you call the {method head}, the DataFrame communicates with the API:\\n', DF.head())\n",
    "\n",
    "#When you call the method mean, the API will calculate the mean and return the values\n",
    "print('\\nWhen you call the method mean, the API will calculate the mean and return the values:\\n', DF.mean())"
   ]
  },
  {
   "cell_type": "code",
   "execution_count": null,
   "metadata": {},
   "outputs": [],
   "source": [
    "#Application Program Interfaces (API)\n",
    "#Rest API \n",
    "# APIs are another popular type of API\n",
    "#They allow you to communicate through \n",
    "#the Internet allowing you to take advantage of resources like storage,access more data,\n",
    "#artificial intelligent algorithms and much more.\n",
    "#The RE stands for representational.\n",
    "#The S stands for state\n",
    "#The T stands for transfer\n",
    "\n",
    "#In REST APIs, your program is called the client\n",
    "#The API communicates with a web service you call through the Internet\n",
    "#There is a set of rules regarding communication:\n",
    "#input or request, and output or response\n",
    "print(\"\\nSets of rules in API: (input or request), and (output or response)\")\n",
    "print(\"\\nYou or your code can be thought of as a (client)\")\n",
    "print('\\nThe web service is referred to as a resource')\n",
    "#You or your code can be thought of as a client.\n",
    "#The web service is referred to as a resource.\n",
    "\n",
    "#HTTP methods are a way of transmitting data over the internet\n",
    "\n",
    "print(\"\\nThe request is usually communicated via an HTTP message\")\n",
    "print(\"\\nThe HTTP message usually contains adjacent file\")\n",
    "\n",
    "#Sports data is always changing\n",
    "#This is an excellent application of an API as it can be constantly updated."
   ]
  },
  {
   "cell_type": "code",
   "execution_count": null,
   "metadata": {},
   "outputs": [],
   "source": [
    "# Application Programming Interface\n",
    "# Application Programming Interface\n",
    "# Application Programming Interface\n",
    "# Application Programming Interface\n",
    "# Application Programming Interface\n",
    "# Application Programming Interface\n",
    "\n",
    "\n",
    "#Demonstrating the above explination by an comprehensive example\n",
    "#we will discuss Application Program Interfaces that use some kind of artificial intelligence\n",
    "#We will transcribe an audio file using the Watson Text to Speech API\n",
    "#We will then translate the text to a new language using the Watson Language Translator API\n",
    "#In the API call, you will send a copy of the audio file to the API\n",
    "#This is sometimes called a POST request\n",
    "#Then the API will send the text transcription of what the individual is saying\n",
    "#Under the hood, the API is making a GET request\n",
    "#We then send the text we would like to translate into a second language to a second API\n",
    "#The API will translate the text and send the translation back to you\n",
    "#In this case, we translate English to Spanish\n",
    "#We then provide an overview of API keys and endpoints\n",
    "\n",
    "#We then provide an overview as follows:\n",
    "#1- API keys and endpoints\n",
    "#2- Watson Speech to Text\n",
    "#3- Watson Translate\n",
    "\n",
    "#An API key as a way to access the API\n",
    "#It's a unique set of characters that the API uses to identify you and authorize you\n",
    "\n",
    "#Usually, your first call to the API includes the API key\n",
    "#This will allow you access to the API\n",
    "#In many APIs, you may get charged for each call\n",
    "#So like your password, you should keep your API key a \n",
    "\n",
    "#Watson Text to Speech API\n",
    "#Now, we will transcribe an audio file using the Watson Text to Speech API\n",
    "#Before you start the lab, you should sign up for an API key.\n",
    "#We will download an audio file into your directory.\n",
    "#First, we import SpeechToTextV1 from IBM Watson.\n",
    "# To install write: pip install --upgrade ibm-watson\n",
    "# To install write: pip install --upgrade ibm-watson\n",
    "# To install write: pip install --upgrade ibm-watson\n",
    "# To install write: pip install --upgrade ibm-watson\n",
    "# To install write: pip install --upgrade ibm-watson\n",
    "# To install write: pip install --upgrade ibm-watson\n",
    "\n",
    "#you will need the following library \n",
    "!pip install ibm_watson wget\n",
    "\n",
    "# Application Programming Interface\n",
    "# Application Programming Interface\n",
    "# Application Programming Interface\n"
   ]
  },
  {
   "cell_type": "code",
   "execution_count": null,
   "metadata": {},
   "outputs": [],
   "source": [
    "\n",
    "# Application Programming Interface\n",
    "# Application Programming Interface\n",
    "# Application Programming Interface\n",
    "\n",
    "#First we import SpeechToTextV1 from ibm_watson\n",
    "\n",
    "from ibm_watson import SpeechToTextV1 \n",
    "import json\n",
    "from ibm_cloud_sdk_core.authenticators import IAMAuthenticator\n",
    "\n",
    "url_s2t = \"https://stream.watsonplatform.net/speech-to-text/api\"\n",
    "\n",
    "#You require an API key\n",
    "#You require an API key\n",
    "#You require an API key\n",
    "\n",
    "iam_apikey_s2t = \"  \"\n",
    "#You create a Speech To Text Adapter object the parameters are the endpoint and API key\n",
    "\n",
    "authenticator = IAMAuthenticator(iam_apikey_s2t)\n",
    "s2t = SpeechToTextV1(authenticator=authenticator)\n",
    "s2t.set_service_url(url_s2t)\n",
    "s2t\n"
   ]
  },
  {
   "cell_type": "code",
   "execution_count": null,
   "metadata": {},
   "outputs": [],
   "source": [
    "#Lets download the audio file that we will use to convert into text.\n",
    "!wget -O PolynomialRegressionandPipelines.mp3  https:\\\\s3-api.us-geo.objectstorage.softlayer.net\\cf-courses-data\\CognitiveClass\\PY0101EN\\labs\\PolynomialRegressionandPipelines.mp3\n"
   ]
  },
  {
   "cell_type": "code",
   "execution_count": null,
   "metadata": {
    "scrolled": true
   },
   "outputs": [],
   "source": [
    "\n",
    "#We have the path of the wav file we would like to convert to text\n",
    "filename='PolynomialRegressionandPipelines.mp3'\n",
    "#We create the file object wav with the wav file using open \n",
    "#we set the mode to \"rb\" , this is similar to read mode\n",
    "#but it ensures the file is in binary mode\n",
    "#We use the method recognize to return the recognized text\n",
    "#The parameter audio is the file object wav\n",
    "#the parameter content_type is the format of the audio file\n",
    "with open(filename, mode=\"rb\")  as wav:\n",
    "    response = s2t.recognize(audio=wav, content_type='audio/mp3')\n",
    "#The attribute result contains a dictionary that includes the translation\n",
    "response.result\n",
    "\n",
    "from pandas.io.json import json_normalize\n",
    "json_normalize(response.result['results'],\"alternatives\")\n",
    "response\n"
   ]
  },
  {
   "cell_type": "code",
   "execution_count": null,
   "metadata": {},
   "outputs": [],
   "source": [
    "#We can obtain the recognized text and assign it to the variable \n",
    "recognized_text=response.result['results'][0][\"alternatives\"][0][\"transcript\"]\n",
    "type(recognized_text)\n",
    "\n",
    "# we import LanguageTranslatorV3 from ibm_watson\n",
    "from ibm_watson import LanguageTranslatorV3\n"
   ]
  },
  {
   "cell_type": "code",
   "execution_count": null,
   "metadata": {},
   "outputs": [],
   "source": [
    "#The service endpoint is based on the location of the service instance\n",
    "#we store the information in the variable URL\n",
    "#To find out which URL to use, view the service credentials\n",
    "url_lt='https://gateway.watsonplatform.net/language-translator/api'\n"
   ]
  },
  {
   "cell_type": "code",
   "execution_count": null,
   "metadata": {},
   "outputs": [],
   "source": [
    "#You require an API key, and you can obtain the key on the Dashboard\n",
    "apikey_lt=\"   \"\n",
    "#API requests require a version parameter that takes a date in the format version=YYYY-MM-DD\n",
    "#This lab describes the current version of Language Translator, 2018-05-01\n",
    "version_lt='2018-05-01'"
   ]
  },
  {
   "cell_type": "code",
   "execution_count": null,
   "metadata": {},
   "outputs": [],
   "source": [
    "#we create a Language Translator object language_translator:\n",
    "authenticator = IAMAuthenticator(apikey_lt)\n",
    "language_translator = LanguageTranslatorV3(version=version_lt,authenticator=authenticator)\n",
    "language_translator.set_service_url(url_lt)\n",
    "language_translator\n",
    "#We can get a Lists the languages that the service can identify\n",
    "#The method Returns the language code. For example English (en) to Spanis (es) and name of each language\n",
    "from pandas.io.json import json_normalize\n",
    "\n",
    "json_normalize(language_translator.list_identifiable_languages().get_result(), \"languages\")"
   ]
  },
  {
   "cell_type": "code",
   "execution_count": null,
   "metadata": {},
   "outputs": [],
   "source": [
    "#We can use the method translate this will translate the text\n",
    "#The parameter text is the text\n",
    "#Model_id is the type of model we would like to use use we use list the the langwich\n",
    "#In this case, we set it to 'en-es' or English to Spanish\n",
    "#We get a Detailed Response object translation_response\n",
    "\n",
    "translation_response = language_translator.translate(\\\n",
    "    text=recognized_text, model_id='en-es')\n",
    "translation_response\n",
    "\n",
    "#The result is a dictionary\n",
    "translation=translation_response.get_result()\n",
    "translation"
   ]
  },
  {
   "cell_type": "code",
   "execution_count": null,
   "metadata": {},
   "outputs": [],
   "source": [
    "#We can obtain the actual translation as a string as follows:\n",
    "spanish_translation =translation['translations'][0]['translation']\n",
    "spanish_translation\n"
   ]
  },
  {
   "cell_type": "code",
   "execution_count": null,
   "metadata": {},
   "outputs": [],
   "source": [
    "#We can translate back to English\n",
    "translation_new = language_translator.translate(text=spanish_translation ,model_id='es-en').get_result()"
   ]
  },
  {
   "cell_type": "code",
   "execution_count": null,
   "metadata": {},
   "outputs": [],
   "source": [
    "#We can obtain the actual translation as a string as follows:\n",
    "translation_eng=translation_new['translations'][0]['translation']\n",
    "translation_eng"
   ]
  },
  {
   "cell_type": "code",
   "execution_count": null,
   "metadata": {},
   "outputs": [],
   "source": [
    "#We can convert it to french as well:\n",
    "French_translation=language_translator.translate(\n",
    "    text=translation_eng , model_id='en-fr').get_result()\n",
    "French_translation['translations'][0]['translation']"
   ]
  }
 ],
 "metadata": {
  "kernelspec": {
   "display_name": "Python 3",
   "language": "python",
   "name": "python3"
  },
  "language_info": {
   "codemirror_mode": {
    "name": "ipython",
    "version": 3
   },
   "file_extension": ".py",
   "mimetype": "text/x-python",
   "name": "python",
   "nbconvert_exporter": "python",
   "pygments_lexer": "ipython3",
   "version": "3.7.6"
  }
 },
 "nbformat": 4,
 "nbformat_minor": 4
}
